{
 "cells": [
  {
   "cell_type": "code",
   "execution_count": 1,
   "id": "62aa6c7c",
   "metadata": {},
   "outputs": [
    {
     "data": {
      "text/plain": [
       "list"
      ]
     },
     "execution_count": 1,
     "metadata": {},
     "output_type": "execute_result"
    }
   ],
   "source": [
    "a=[1,2,3]\n",
    "type(a)"
   ]
  },
  {
   "cell_type": "code",
   "execution_count": 2,
   "id": "8025c055",
   "metadata": {},
   "outputs": [
    {
     "name": "stdout",
     "output_type": "stream",
     "text": [
      "[2, 3, 4]\n",
      "[]\n",
      "4\n"
     ]
    }
   ],
   "source": [
    "a=list([2,3,4])\n",
    "print(a)\n",
    "a=list()\n",
    "print(a)\n",
    "a=[1,2,3,4]\n",
    "print(a[3])\n"
   ]
  },
  {
   "cell_type": "code",
   "execution_count": 3,
   "id": "6d2e4459",
   "metadata": {},
   "outputs": [
    {
     "ename": "SyntaxError",
     "evalue": "expression cannot contain assignment, perhaps you meant \"==\"? (<ipython-input-3-697ad619891a>, line 2)",
     "output_type": "error",
     "traceback": [
      "\u001b[1;36m  File \u001b[1;32m\"<ipython-input-3-697ad619891a>\"\u001b[1;36m, line \u001b[1;32m2\u001b[0m\n\u001b[1;33m    print(a[3]=40)\u001b[0m\n\u001b[1;37m          ^\u001b[0m\n\u001b[1;31mSyntaxError\u001b[0m\u001b[1;31m:\u001b[0m expression cannot contain assignment, perhaps you meant \"==\"?\n"
     ]
    }
   ],
   "source": [
    "#list is mutable, we can change it\n",
    "print(a[3]=40)"
   ]
  },
  {
   "cell_type": "code",
   "execution_count": 4,
   "id": "e2306a8a",
   "metadata": {},
   "outputs": [
    {
     "name": "stdout",
     "output_type": "stream",
     "text": [
      "[1, 2, 3, 40]\n",
      "[1, 50, 60, 'anjhu']\n",
      "[12, 50, 60, 'anjhu']\n"
     ]
    }
   ],
   "source": [
    "a[3]=40\n",
    "print(a)\n",
    "a=[1,50,60,\"anjhu\"]\n",
    "print(a)\n",
    "a[0]=12\n",
    "print(a)"
   ]
  },
  {
   "cell_type": "code",
   "execution_count": 5,
   "id": "feccf46a",
   "metadata": {},
   "outputs": [
    {
     "name": "stdout",
     "output_type": "stream",
     "text": [
      "[0, 0, 0, 0, 0, 0, 0, 0, 0, 0]\n",
      "[0, 1, 2, 3, 4, 5, 6, 7, 8, 9]\n",
      "[0, 1, 4, 9, 16, 25, 36, 49, 64, 81]\n"
     ]
    }
   ],
   "source": [
    "b=[0 for i in range (10)]\n",
    "print(b)\n",
    "b=[i for i in range(10)]\n",
    "print(b)\n",
    "b=[i*i for i in range(10)]\n",
    "print(b)"
   ]
  },
  {
   "cell_type": "code",
   "execution_count": 7,
   "id": "52117e15",
   "metadata": {},
   "outputs": [
    {
     "name": "stdout",
     "output_type": "stream",
     "text": [
      "[1, 2, 3, 4, 5, 6, 7, 3]\n",
      "[1, 2, 3, 4, 5, 1, 2, 3, 4, 5, 1, 2, 3, 4, 5]\n",
      "None\n",
      "None\n",
      "None\n",
      "None\n",
      "3\n",
      "None\n",
      "7\n",
      "2\n",
      "False\n"
     ]
    }
   ],
   "source": [
    "#some inbuilt functions in lists\n",
    "a=[1,2,3,4,5]\n",
    "len(a)\n",
    "b=[6,7,3]\n",
    "print(a+b)\n",
    "print(a*3)\n",
    "#add data on end\n",
    "print(a.append(6))\n",
    "# add data to specific index\n",
    "print(a.insert(0,3))\n",
    "print(a.extend(b))\n",
    "#delete data\n",
    "print(a.remove(5))\n",
    "print(a.pop(0))\n",
    "del a[4]\n",
    "print(a.sort())\n",
    "print(max(b))\n",
    "print(b.index(3))\n",
    "print(100 in b)"
   ]
  }
 ],
 "metadata": {
  "kernelspec": {
   "display_name": "Python 3",
   "language": "python",
   "name": "python3"
  },
  "language_info": {
   "codemirror_mode": {
    "name": "ipython",
    "version": 3
   },
   "file_extension": ".py",
   "mimetype": "text/x-python",
   "name": "python",
   "nbconvert_exporter": "python",
   "pygments_lexer": "ipython3",
   "version": "3.8.8"
  }
 },
 "nbformat": 4,
 "nbformat_minor": 5
}
