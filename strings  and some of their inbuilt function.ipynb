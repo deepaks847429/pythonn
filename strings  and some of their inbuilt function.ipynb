{
 "cells": [
  {
   "cell_type": "code",
   "execution_count": 1,
   "id": "d8de11a8",
   "metadata": {},
   "outputs": [
    {
     "data": {
      "text/plain": [
       "'a'"
      ]
     },
     "execution_count": 1,
     "metadata": {},
     "output_type": "execute_result"
    }
   ],
   "source": [
    "a=\"abcdef\"\n",
    "a[0]"
   ]
  },
  {
   "cell_type": "code",
   "execution_count": 2,
   "id": "54dc15f3",
   "metadata": {},
   "outputs": [
    {
     "name": "stdout",
     "output_type": "stream",
     "text": [
      "a\n",
      "b\n",
      "c\n",
      "d\n",
      "e\n",
      "f\n"
     ]
    }
   ],
   "source": [
    "for i in a:\n",
    "    print(i)"
   ]
  },
  {
   "cell_type": "code",
   "execution_count": 7,
   "id": "069e7d34",
   "metadata": {},
   "outputs": [
    {
     "name": "stdout",
     "output_type": "stream",
     "text": [
      "this is deepak's pen. i said i'm the most obedient student of my class\n"
     ]
    }
   ],
   "source": [
    "#strings are immutable, we cannot change the string.\n",
    "#some inbuilt function in string\n",
    "a=\"this is deepak's pen\"\n",
    "b='i said\"i was the most obedient student in my class\"'\n",
    "c='this is deepak\\'s pen. i said i\\'m the most obedient student of my class'\n",
    "print(c)"
   ]
  },
  {
   "cell_type": "code",
   "execution_count": 8,
   "id": "85faf262",
   "metadata": {},
   "outputs": [
    {
     "data": {
      "text/plain": [
       "'this is deepak\\'s peni said\"i was the most obedient student in my class\"'"
      ]
     },
     "execution_count": 8,
     "metadata": {},
     "output_type": "execute_result"
    }
   ],
   "source": [
    "#concatenation\n",
    "a+b"
   ]
  },
  {
   "cell_type": "code",
   "execution_count": 11,
   "id": "6f889d2d",
   "metadata": {},
   "outputs": [
    {
     "ename": "TypeError",
     "evalue": "unsupported operand type(s) for -: 'str' and 'str'",
     "output_type": "error",
     "traceback": [
      "\u001b[1;31m---------------------------------------------------------------------------\u001b[0m",
      "\u001b[1;31mTypeError\u001b[0m                                 Traceback (most recent call last)",
      "\u001b[1;32m<ipython-input-11-736dfe72ba2e>\u001b[0m in \u001b[0;36m<module>\u001b[1;34m\u001b[0m\n\u001b[0;32m      1\u001b[0m \u001b[0ma\u001b[0m\u001b[1;33m=\u001b[0m\u001b[0ma\u001b[0m\u001b[1;33m+\u001b[0m\u001b[0mb\u001b[0m\u001b[1;33m\u001b[0m\u001b[1;33m\u001b[0m\u001b[0m\n\u001b[1;32m----> 2\u001b[1;33m \u001b[0ma\u001b[0m\u001b[1;33m-\u001b[0m\u001b[0mb\u001b[0m\u001b[1;33m\u001b[0m\u001b[1;33m\u001b[0m\u001b[0m\n\u001b[0m",
      "\u001b[1;31mTypeError\u001b[0m: unsupported operand type(s) for -: 'str' and 'str'"
     ]
    }
   ],
   "source": [
    "a=a+b\n",
    "a-b"
   ]
  },
  {
   "cell_type": "code",
   "execution_count": 13,
   "id": "8ba3d349",
   "metadata": {},
   "outputs": [
    {
     "name": "stdout",
     "output_type": "stream",
     "text": [
      "True\n",
      "False\n",
      "True\n"
     ]
    }
   ],
   "source": [
    "a==b\n",
    "print(a>b)\n",
    "print(a<b)\n",
    "print(a>=b)"
   ]
  },
  {
   "cell_type": "code",
   "execution_count": 14,
   "id": "b8bdaced",
   "metadata": {},
   "outputs": [
    {
     "data": {
      "text/plain": [
       "['this', 'is', 'a', 'str']"
      ]
     },
     "execution_count": 14,
     "metadata": {},
     "output_type": "execute_result"
    }
   ],
   "source": [
    "#all uppercase chracter come before lower case chracter in lexographically  comparison\n",
    "#split\n",
    "a=\"this is a str\"\n",
    "a.split()"
   ]
  },
  {
   "cell_type": "code",
   "execution_count": 16,
   "id": "a9f4383e",
   "metadata": {},
   "outputs": [
    {
     "name": "stdout",
     "output_type": "stream",
     "text": [
      "['this is a str']\n",
      "['this is a str']\n",
      "thare are a str\n",
      "2\n",
      "this is a str\n",
      "THIS IS A STR\n",
      "True\n",
      "False\n",
      "False\n",
      "True\n"
     ]
    }
   ],
   "source": [
    "#by default on white space split is done\n",
    "print(a.split(\",\"))\n",
    "print(a.split(\"ab\"))\n",
    "print(a.replace(\"is\",\"are\"))\n",
    "print(a.find(\"is\"))\n",
    "print(a.lower())\n",
    "print(a.upper())\n",
    "print(a.islower())\n",
    "print(a.isupper())\n",
    "print(a.isalpha())\n",
    "print(a.startswith(\"this\"))"
   ]
  },
  {
   "cell_type": "code",
   "execution_count": 17,
   "id": "9c34fc52",
   "metadata": {},
   "outputs": [
    {
     "data": {
      "text/plain": [
       "'s is a'"
      ]
     },
     "execution_count": 17,
     "metadata": {},
     "output_type": "execute_result"
    }
   ],
   "source": [
    "#string slicing\n",
    "a[3:9]"
   ]
  },
  {
   "cell_type": "code",
   "execution_count": 18,
   "id": "3ae893f2",
   "metadata": {},
   "outputs": [
    {
     "name": "stdout",
     "output_type": "stream",
     "text": [
      "is sl\n",
      "is is slicing\n",
      "this\n",
      "this is slicing\n",
      "i ss\n",
      "\n",
      "ils si s\n"
     ]
    }
   ],
   "source": [
    "a=\"this is slicing\"\n",
    "a[2:5]\n",
    "print(a[5:10])\n",
    "print(a[2:])\n",
    "print(a[:4])\n",
    "print(a[ : ])\n",
    "print(a[2:10:2])\n",
    "print(a[2:10:-1])\n",
    "print(a[10:2:-1])"
   ]
  },
  {
   "cell_type": "code",
   "execution_count": 25,
   "id": "8e473981",
   "metadata": {},
   "outputs": [
    {
     "name": "stdout",
     "output_type": "stream",
     "text": [
      "jdfbvx\n"
     ]
    },
    {
     "data": {
      "text/plain": [
       "'jdfbvy'"
      ]
     },
     "execution_count": 25,
     "metadata": {},
     "output_type": "execute_result"
    }
   ],
   "source": [
    "#replace first occurance\n",
    "s=input()\n",
    "a='x'\n",
    "b='y'\n",
    "p=s.find(a)\n",
    "if p!=-1:\n",
    "    ans=s[ :p]+b+s[p+1:]\n",
    "ans"
   ]
  },
  {
   "cell_type": "code",
   "execution_count": null,
   "id": "dac7cfb1",
   "metadata": {},
   "outputs": [],
   "source": [
    "#replace all occurance\n",
    "s=input()\n",
    "a='x'\n",
    "b='y'\n",
    "ans=s\n",
    "for i in range(0,len(ans)):\n",
    "    if ans[i]==a:\n",
    "        ans=ans[:i]+b+ans[]\n",
    "    "
   ]
  }
 ],
 "metadata": {
  "kernelspec": {
   "display_name": "Python 3",
   "language": "python",
   "name": "python3"
  },
  "language_info": {
   "codemirror_mode": {
    "name": "ipython",
    "version": 3
   },
   "file_extension": ".py",
   "mimetype": "text/x-python",
   "name": "python",
   "nbconvert_exporter": "python",
   "pygments_lexer": "ipython3",
   "version": "3.8.8"
  }
 },
 "nbformat": 4,
 "nbformat_minor": 5
}
