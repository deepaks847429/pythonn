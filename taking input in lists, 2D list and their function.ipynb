{
 "cells": [
  {
   "cell_type": "code",
   "execution_count": 1,
   "id": "34fa801f",
   "metadata": {},
   "outputs": [
    {
     "name": "stdout",
     "output_type": "stream",
     "text": [
      "1\n",
      "2\n",
      "3\n",
      "4\n",
      "5\n",
      "6\n",
      "7\n",
      "8\n"
     ]
    }
   ],
   "source": [
    "a=[1,2,3,4,5,6,7,8]\n",
    "for i in a:\n",
    "    print(i)"
   ]
  },
  {
   "cell_type": "code",
   "execution_count": 13,
   "id": "72291f67",
   "metadata": {},
   "outputs": [
    {
     "name": "stdout",
     "output_type": "stream",
     "text": [
      "5\n",
      "1\n",
      "2\n",
      "3\n",
      "4\n",
      "5\n",
      "[1, 2, 3, 4, 5]\n"
     ]
    }
   ],
   "source": [
    "#taking input row wise\n",
    "s=int(input())\n",
    "a=[]\n",
    "for i in range (s):\n",
    "    ne=int(input())\n",
    "    a.append(ne)\n",
    "print(a)    "
   ]
  },
  {
   "cell_type": "code",
   "execution_count": 23,
   "id": "20ed8f30",
   "metadata": {},
   "outputs": [
    {
     "name": "stdout",
     "output_type": "stream",
     "text": [
      "1 2 3 5 8\n",
      "[1, 2, 3, 5, 8]\n"
     ]
    }
   ],
   "source": [
    "# taking input in a single row\n",
    "line=input()\n",
    "l=line.split()\n",
    "a=[]\n",
    "for s in l:\n",
    "    a.append(int(s))\n",
    "print(a)     "
   ]
  },
  {
   "cell_type": "code",
   "execution_count": 24,
   "id": "bcdab4a5",
   "metadata": {},
   "outputs": [
    {
     "name": "stdout",
     "output_type": "stream",
     "text": [
      "1 5 8 9 10 \n",
      "[1, 5, 8, 9, 10]\n"
     ]
    }
   ],
   "source": [
    "#optimizes way of above approach\n",
    "l=input().split()\n",
    "a=[int(s) for s in l]\n",
    "print(a)"
   ]
  },
  {
   "cell_type": "code",
   "execution_count": 25,
   "id": "745c378d",
   "metadata": {},
   "outputs": [
    {
     "name": "stdout",
     "output_type": "stream",
     "text": [
      "16 56 8 531 692\n",
      "[16, 56, 8, 531, 692]\n"
     ]
    }
   ],
   "source": [
    "#more optimized approach, single line approach\n",
    "a=[int(s) for s in input().split()]\n",
    "print(a)"
   ]
  },
  {
   "cell_type": "code",
   "execution_count": 26,
   "id": "8680c06b",
   "metadata": {},
   "outputs": [
    {
     "name": "stdout",
     "output_type": "stream",
     "text": [
      "5\n",
      "1 2 5 8 9\n",
      "[1, 2, 5, 8, 9]\n"
     ]
    }
   ],
   "source": [
    "#taking size of input and input column wise\n",
    "size=int(input())\n",
    "a=[int(s) for s in input().split()]\n",
    "print(a)"
   ]
  },
  {
   "cell_type": "code",
   "execution_count": 27,
   "id": "f3a1b689",
   "metadata": {},
   "outputs": [
    {
     "name": "stdout",
     "output_type": "stream",
     "text": [
      " 10 25 60 58 320 15 20 11 25\n",
      "-392\n"
     ]
    }
   ],
   "source": [
    "#problem solving difference between odd and even\n",
    "l=[int(s) for s in input().split()]\n",
    "even=0\n",
    "odd=0\n",
    "for i in l:\n",
    "    if i%2==0:\n",
    "        even+=i\n",
    "    else:\n",
    "        odd+=i\n",
    "print(odd-even)\n",
    "        "
   ]
  },
  {
   "cell_type": "code",
   "execution_count": 34,
   "id": "e0cf31d6",
   "metadata": {},
   "outputs": [
    {
     "name": "stdout",
     "output_type": "stream",
     "text": [
      "[5, 'abc']\n",
      "[4, 5, 'abc', 34, 0]\n",
      "[1, 2, 3, 4]\n",
      "[34, 'abc', 5]\n",
      "[0, 34, 'abc', 5]\n",
      "[0, 34, 'abc', 5, 4, 3, 2, 1]\n",
      "None\n"
     ]
    }
   ],
   "source": [
    "#slicing in lists, it works in the way as in strings\n",
    "a=[1,2,3,4,5,\"abc\",34, 0]\n",
    "a[0:3]\n",
    "print(a[4:6])\n",
    "print(a[3:])\n",
    "print(a[:4])\n",
    "print(a[6:3:-1])\n",
    "print(a[:3:-1])\n",
    "print(a[ : :-1])\n",
    "#created new list\n",
    "print(a.reverse())\n",
    "#changed a"
   ]
  },
  {
   "cell_type": "code",
   "execution_count": 41,
   "id": "b7812071",
   "metadata": {},
   "outputs": [
    {
     "name": "stdout",
     "output_type": "stream",
     "text": [
      "[1, 2, 3]\n",
      "[4, 5, 6]\n",
      "2\n",
      "6\n"
     ]
    },
    {
     "data": {
      "text/plain": [
       "2"
      ]
     },
     "execution_count": 41,
     "metadata": {},
     "output_type": "execute_result"
    }
   ],
   "source": [
    "# multidimesnsional list, 2d list, exterior list of m size, interior list has n enteries\n",
    "a=[[1,2,3], [4,5,6]]\n",
    "print(a[0])\n",
    "print(a[1])\n",
    "print(a[0][1])\n",
    "print(a[1][2])\n",
    "len(a)\n"
   ]
  },
  {
   "cell_type": "code",
   "execution_count": 44,
   "id": "43eec161",
   "metadata": {},
   "outputs": [
    {
     "name": "stdout",
     "output_type": "stream",
     "text": [
      "5 4\n",
      "1234\n",
      "1234\n",
      "1234\n",
      "1234\n",
      "1234\n",
      "[[1234], [1234], [1234], [1234], [1234]]\n"
     ]
    }
   ],
   "source": [
    "#taking input in 2Dlist or multidimensional list\n",
    "sizes=input().split()\n",
    "m=int(sizes[0])\n",
    "n=int(sizes[1])\n",
    "l=[]\n",
    "for i in range (m):\n",
    "    next_row=[int(i) for i in input().split()]\n",
    "    l.append(next_row)\n",
    "print(l)    "
   ]
  },
  {
   "cell_type": "code",
   "execution_count": 50,
   "id": "fa3add9a",
   "metadata": {},
   "outputs": [
    {
     "name": "stdout",
     "output_type": "stream",
     "text": [
      "3 4\n",
      "1\n",
      "2\n",
      "3\n",
      "4\n",
      "5\n",
      "6\n",
      "7\n",
      "8\n",
      "9\n",
      "11\n",
      "12\n",
      "1\n",
      "[[1, 2, 3, 4], [5, 6, 7, 8], [9, 11, 12, 1]]\n"
     ]
    }
   ],
   "source": [
    "sizes=input().split()\n",
    "m=int(sizes[0])\n",
    "n=int(sizes[1])\n",
    "l=[]\n",
    "for i in range  (m):\n",
    "    next_row=[]\n",
    "    for j in range (n):\n",
    "        element=int(input())\n",
    "        next_row.append(element)\n",
    "    l.append(next_row)\n",
    "print(l)"
   ]
  },
  {
   "cell_type": "code",
   "execution_count": null,
   "id": "f68386a1",
   "metadata": {},
   "outputs": [],
   "source": [
    "sizes=input().split()\n",
    "m=int(sizes[0])\n",
    "n=int(sizes[1])\n",
    "l_1d=[int (i) for i in input().spllit()]\n",
    "l=[]\n",
    "for i in range  (m):\n",
    "    start_index=n*i\n",
    "    end_index=n*(i+1)\n",
    "    next_row=l_1d[start_index:end_index]\n",
    "    l.append(next_row)\n",
    "print(l)    "
   ]
  }
 ],
 "metadata": {
  "kernelspec": {
   "display_name": "Python 3",
   "language": "python",
   "name": "python3"
  },
  "language_info": {
   "codemirror_mode": {
    "name": "ipython",
    "version": 3
   },
   "file_extension": ".py",
   "mimetype": "text/x-python",
   "name": "python",
   "nbconvert_exporter": "python",
   "pygments_lexer": "ipython3",
   "version": "3.8.8"
  }
 },
 "nbformat": 4,
 "nbformat_minor": 5
}
