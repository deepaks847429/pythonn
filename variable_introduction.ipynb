{
 "cells": [
  {
   "cell_type": "code",
   "execution_count": 2,
   "id": "03711e7d",
   "metadata": {},
   "outputs": [
    {
     "name": "stdout",
     "output_type": "stream",
     "text": [
      "30\n"
     ]
    }
   ],
   "source": [
    "###variables\n",
    "a=10\n",
    "b=20\n",
    "sum=a+b\n",
    "print(sum)"
   ]
  },
  {
   "cell_type": "markdown",
   "id": "6e786e1d",
   "metadata": {},
   "source": [
    "###assigning different type of data to a variable"
   ]
  },
  {
   "cell_type": "code",
   "execution_count": null,
   "id": "60d8cfbc",
   "metadata": {},
   "outputs": [],
   "source": []
  },
  {
   "cell_type": "markdown",
   "id": "c761804a",
   "metadata": {},
   "source": [
    "a=10\n",
    "print(type(a))\n",
    "b=\"3y8ffvhui\"\n",
    "print(type(b))"
   ]
  },
  {
   "cell_type": "markdown",
   "id": "acc5c9d9",
   "metadata": {},
   "source": [
    "### python numbers"
   ]
  },
  {
   "cell_type": "code",
   "execution_count": 4,
   "id": "26d602ab",
   "metadata": {},
   "outputs": [
    {
     "name": "stdout",
     "output_type": "stream",
     "text": [
      "<class 'int'>\n",
      "<class 'float'>\n",
      "<class 'complex'>\n"
     ]
    }
   ],
   "source": [
    "a=23\n",
    "print(type(a))\n",
    "b=3.4\n",
    "print(type(b))\n",
    "c=3+6j\n",
    "print(type(c))"
   ]
  },
  {
   "cell_type": "code",
   "execution_count": 5,
   "id": "79577b0a",
   "metadata": {},
   "outputs": [
    {
     "name": "stdout",
     "output_type": "stream",
     "text": [
      "140711207643216\n",
      "2904661146224\n"
     ]
    }
   ],
   "source": [
    "a=10\n",
    "print(id(a))\n",
    "a=a+1\n",
    "print(id(b))"
   ]
  },
  {
   "cell_type": "code",
   "execution_count": null,
   "id": "a9083046",
   "metadata": {},
   "outputs": [],
   "source": []
  },
  {
   "cell_type": "markdown",
   "id": "37f31a08",
   "metadata": {},
   "source": [
    "### python optimization"
   ]
  },
  {
   "cell_type": "code",
   "execution_count": 6,
   "id": "eb3f2868",
   "metadata": {},
   "outputs": [
    {
     "name": "stdout",
     "output_type": "stream",
     "text": [
      "140711207643216\n",
      "140711207643216\n"
     ]
    }
   ],
   "source": [
    "a=10\n",
    "b=10\n",
    "print(id(a))\n",
    "print(id(b))"
   ]
  },
  {
   "cell_type": "markdown",
   "id": "d0582482",
   "metadata": {},
   "source": [
    "### airthematic operations"
   ]
  },
  {
   "cell_type": "code",
   "execution_count": 7,
   "id": "2d3faa5d",
   "metadata": {},
   "outputs": [
    {
     "name": "stdout",
     "output_type": "stream",
     "text": [
      "14\n",
      "6\n"
     ]
    }
   ],
   "source": [
    "a=10\n",
    "b=4\n",
    "print(a+b)\n",
    "print(a-b)"
   ]
  },
  {
   "cell_type": "code",
   "execution_count": 9,
   "id": "65c4fe0c",
   "metadata": {},
   "outputs": [
    {
     "name": "stdout",
     "output_type": "stream",
     "text": [
      "40\n",
      "10000\n",
      "2.5\n",
      "2\n"
     ]
    }
   ],
   "source": [
    "a*b\n",
    "print(a*b)\n",
    "print(a**b)\n",
    "print(a/b)\n",
    "print(a//b)"
   ]
  },
  {
   "cell_type": "code",
   "execution_count": 10,
   "id": "ff143065",
   "metadata": {},
   "outputs": [
    {
     "name": "stdout",
     "output_type": "stream",
     "text": [
      "24.0\n"
     ]
    }
   ],
   "source": [
    "#simple intrest\n",
    "p=100\n",
    "r=12\n",
    "t=2\n",
    "s=(p*r*t)/100\n",
    "print(s)"
   ]
  },
  {
   "cell_type": "code",
   "execution_count": 12,
   "id": "2147bc28",
   "metadata": {},
   "outputs": [
    {
     "name": "stdout",
     "output_type": "stream",
     "text": [
      "37.77777777777778\n"
     ]
    }
   ],
   "source": [
    "#farenhiet to celsius\n",
    "f=100\n",
    "c=(f-32)*5/9\n",
    "print(c)"
   ]
  },
  {
   "cell_type": "markdown",
   "id": "2930321f",
   "metadata": {},
   "source": [
    "### input"
   ]
  },
  {
   "cell_type": "code",
   "execution_count": 14,
   "id": "29bedeea",
   "metadata": {},
   "outputs": [
    {
     "name": "stdout",
     "output_type": "stream",
     "text": [
      "23\n",
      "45\n",
      "2345\n"
     ]
    }
   ],
   "source": [
    "a=input()\n",
    "b=input()\n",
    "print(a+b)"
   ]
  },
  {
   "cell_type": "code",
   "execution_count": 15,
   "id": "0d9a9c45",
   "metadata": {},
   "outputs": [
    {
     "name": "stdout",
     "output_type": "stream",
     "text": [
      "45\n",
      "12\n",
      "57\n"
     ]
    }
   ],
   "source": [
    "#type conversion\n",
    "a=int(input())\n",
    "b=int(input())\n",
    "print(a+b)"
   ]
  }
 ],
 "metadata": {
  "kernelspec": {
   "display_name": "Python 3",
   "language": "python",
   "name": "python3"
  },
  "language_info": {
   "codemirror_mode": {
    "name": "ipython",
    "version": 3
   },
   "file_extension": ".py",
   "mimetype": "text/x-python",
   "name": "python",
   "nbconvert_exporter": "python",
   "pygments_lexer": "ipython3",
   "version": "3.8.8"
  }
 },
 "nbformat": 4,
 "nbformat_minor": 5
}
