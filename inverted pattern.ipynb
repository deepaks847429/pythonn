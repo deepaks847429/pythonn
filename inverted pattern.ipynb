{
 "cells": [
  {
   "cell_type": "code",
   "execution_count": null,
   "id": "1ba61056",
   "metadata": {},
   "outputs": [],
   "source": [
    "n=int(input())\n",
    "i=1\n",
    "while i<=n:\n",
    "    j=1\n",
    "    while j<=n-i+1:\n",
    "        print(\"*\", end=\" \")\n",
    "        j=j+1\n",
    "    print()\n",
    "    i=i+1"
   ]
  },
  {
   "cell_type": "code",
   "execution_count": 10,
   "id": "f2659920",
   "metadata": {},
   "outputs": [
    {
     "name": "stdout",
     "output_type": "stream",
     "text": [
      "5\n",
      "  * \n",
      "  * * \n",
      "  * * * \n",
      "  * * * * \n",
      "  * * * * * \n"
     ]
    }
   ],
   "source": [
    "#reversed pattern\n",
    "n=int(input())\n",
    "i=1\n",
    "while i<=n:\n",
    "    spaces=1\n",
    "    while spaces<=n:\n",
    "        print(\" \", end=\" \")\n",
    "        spaces=spaces+1\n",
    "        stars=1\n",
    "        while stars<=i:\n",
    "            \n",
    "            print(\"*\", end=\" \")\n",
    "            stars=stars+1\n",
    "        print()\n",
    "        i=i+1\n",
    "    "
   ]
  },
  {
   "cell_type": "code",
   "execution_count": 11,
   "id": "68410e28",
   "metadata": {},
   "outputs": [
    {
     "name": "stdout",
     "output_type": "stream",
     "text": [
      "5\n",
      "        1 \n",
      "      1 2 \n",
      "    1 2 3 \n",
      "  1 2 3 4 \n",
      "1 2 3 4 5 \n"
     ]
    }
   ],
   "source": [
    "#firstpartofisoscelespattern\n",
    "n=int(input())\n",
    "i=1\n",
    "while i<=n:\n",
    "    spaces=1\n",
    "    while spaces<=n-i:\n",
    "        print(' ',end=\" \")\n",
    "        spaces=spaces+1\n",
    "    p=1\n",
    "    j=1\n",
    "    while j<=i:\n",
    "        print(p,end=\" \")\n",
    "        j=j+1\n",
    "        p=p+1\n",
    "    print()\n",
    "    i=i+1"
   ]
  },
  {
   "cell_type": "code",
   "execution_count": null,
   "id": "be8f4a3d",
   "metadata": {},
   "outputs": [],
   "source": [
    "n=int(input())\n",
    "i=1\n",
    "while i<=n:\n",
    "    spaces=1\n",
    "    while spaces<=n-i:\n",
    "        print(\" \",end=\" \")\n",
    "        spaces=spaces+1\n",
    "        p=1\n",
    "        j=1\n",
    "        while j<=i:\n",
    "            print(p,end=\" \")\n",
    "            j=j+1\n",
    "            p=p+1\n",
    "        p=i-1\n",
    "        while p>=1:\n",
    "            print(p,end=\" \")\n",
    "            p=p-1\n",
    "        print()\n",
    "        i=i+1"
   ]
  },
  {
   "cell_type": "code",
   "execution_count": null,
   "id": "1592a1ee",
   "metadata": {},
   "outputs": [],
   "source": [
    "n=int(input())\n",
    "i=1\n",
    "while i<=n:\n",
    "    spaces=1\n",
    "    while spaces<=n-i:\n",
    "        print(\" \",end=\" \")\n",
    "        spaces=spaces+1\n",
    "        p=1\n",
    "        j=1\n",
    "        while j<=i:\n",
    "            print(p,end=\" \")\n",
    "            j=j+1\n",
    "            p=p+1\n",
    "        p=i-1\n",
    "        while p>=1:\n",
    "            print(p,end=\" \")\n",
    "            p=p-1\n",
    "        print()\n",
    "        i=i+1"
   ]
  },
  {
   "cell_type": "code",
   "execution_count": null,
   "id": "9879e5df",
   "metadata": {},
   "outputs": [],
   "source": [
    "\n"
   ]
  }
 ],
 "metadata": {
  "kernelspec": {
   "display_name": "Python 3",
   "language": "python",
   "name": "python3"
  },
  "language_info": {
   "codemirror_mode": {
    "name": "ipython",
    "version": 3
   },
   "file_extension": ".py",
   "mimetype": "text/x-python",
   "name": "python",
   "nbconvert_exporter": "python",
   "pygments_lexer": "ipython3",
   "version": "3.8.8"
  }
 },
 "nbformat": 4,
 "nbformat_minor": 5
}
